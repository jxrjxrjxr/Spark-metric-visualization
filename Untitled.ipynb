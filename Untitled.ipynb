{
 "cells": [
  {
   "cell_type": "code",
   "execution_count": 114,
   "id": "40941bff",
   "metadata": {},
   "outputs": [],
   "source": [
    "#importing pyspark\n",
    "import pyspark\n",
    "\n",
    "#importing sparksessio\n",
    "from pyspark.sql import SparkSession\n",
    "from pyspark.sql.functions import col, to_json\n",
    "\n",
    "#creating a sparksession object and providing appName \n",
    "spark=SparkSession.builder.appName(\"pysparkdf\").getOrCreate()"
   ]
  },
  {
   "cell_type": "code",
   "execution_count": 30,
   "id": "bb8618bb",
   "metadata": {},
   "outputs": [],
   "source": [
    "#creating a dataframe using spark object by reading csv file\n",
    "df = spark.read.option(\"header\", \"true\").csv(\"../data/0226/metric/kpi_0226.csv\")"
   ]
  },
  {
   "cell_type": "code",
   "execution_count": 31,
   "id": "e29637b0",
   "metadata": {},
   "outputs": [
    {
     "name": "stdout",
     "output_type": "stream",
     "text": [
      "+----------+---+---+-----+---+--------------------+\n",
      "| timestamp| rr| sr|count|mrt|                  tc|\n",
      "+----------+---+---+-----+---+--------------------+\n",
      "|1614268800|100|100|   21| 40|388b83e4b434a13b6...|\n",
      "|1614268800|100|100|   20| 10|aaa51527e6254b04d...|\n",
      "|1614268800|100|100|   20| 12|f952e21004726cf7d...|\n",
      "|1614268860|100|100|   43| 10|aaa51527e6254b04d...|\n",
      "|1614268860|100|100|   13| 17|f952e21004726cf7d...|\n",
      "|1614268860|100|100|   32| 44|388b83e4b434a13b6...|\n",
      "|1614268920|100|100|   30| 42|388b83e4b434a13b6...|\n",
      "|1614268920|100|100|   19| 11|f952e21004726cf7d...|\n",
      "|1614268920|100|100|   44| 10|aaa51527e6254b04d...|\n",
      "|1614268980|100|100|   59| 39|388b83e4b434a13b6...|\n",
      "+----------+---+---+-----+---+--------------------+\n",
      "only showing top 10 rows\n",
      "\n"
     ]
    }
   ],
   "source": [
    "df.show(10)"
   ]
  },
  {
   "cell_type": "code",
   "execution_count": 7,
   "id": "3fc3ed2c",
   "metadata": {},
   "outputs": [
    {
     "name": "stdout",
     "output_type": "stream",
     "text": [
      "root\n",
      " |-- timestamp: string (nullable = true)\n",
      " |-- rr: string (nullable = true)\n",
      " |-- sr: string (nullable = true)\n",
      " |-- count: string (nullable = true)\n",
      " |-- mrt: string (nullable = true)\n",
      " |-- tc: string (nullable = true)\n",
      "\n"
     ]
    }
   ],
   "source": [
    "df.printSchema()"
   ]
  },
  {
   "cell_type": "code",
   "execution_count": 9,
   "id": "0fba89cd",
   "metadata": {},
   "outputs": [
    {
     "name": "stdout",
     "output_type": "stream",
     "text": [
      "root\n",
      " |-- timestamp: string (nullable = true)\n",
      " |-- Rr: integer (nullable = true)\n",
      " |-- sr: string (nullable = true)\n",
      " |-- count: string (nullable = true)\n",
      " |-- mrt: string (nullable = true)\n",
      " |-- tc: string (nullable = true)\n",
      "\n"
     ]
    }
   ],
   "source": [
    "df.withColumn(\"Rr\", df[\"rr\"].cast(\"Integer\")).printSchema()"
   ]
  },
  {
   "cell_type": "code",
   "execution_count": 15,
   "id": "75403fa8",
   "metadata": {},
   "outputs": [
    {
     "name": "stdout",
     "output_type": "stream",
     "text": [
      "+----------+-----+-----+\n",
      "| timestamp|count|count|\n",
      "+----------+-----+-----+\n",
      "|1614278460| 2197|    1|\n",
      "|1614279180| 4086|    1|\n",
      "|1614281580| 4233|    1|\n",
      "|1614287340| 2005|    1|\n",
      "|1614290520|  871|    1|\n",
      "|1614292200| 1311|    1|\n",
      "|1614293460| 1349|    1|\n",
      "|1614293820| 2077|    1|\n",
      "|1614299160| 2638|    1|\n",
      "|1614304260| 1180|    1|\n",
      "+----------+-----+-----+\n",
      "only showing top 10 rows\n",
      "\n"
     ]
    }
   ],
   "source": [
    "df.groupby(\"timestamp\", \"count\").count().show(10)"
   ]
  },
  {
   "cell_type": "code",
   "execution_count": 19,
   "id": "57cfe623",
   "metadata": {},
   "outputs": [
    {
     "name": "stderr",
     "output_type": "stream",
     "text": [
      "                                                                                \r"
     ]
    },
    {
     "data": {
      "text/plain": [
       "'{\"timestamp\":\"1614268800\",\"rr\":\"100\",\"sr\":\"100\",\"count\":\"21\",\"mrt\":\"40\",\"tc\":\"388b83e4b434a13b679b0bad237fb5fabe1a0c54\"}'"
      ]
     },
     "execution_count": 19,
     "metadata": {},
     "output_type": "execute_result"
    }
   ],
   "source": [
    "df.toJSON().first()"
   ]
  },
  {
   "cell_type": "code",
   "execution_count": 21,
   "id": "be341e2e",
   "metadata": {},
   "outputs": [
    {
     "data": {
      "text/plain": [
       "4320"
      ]
     },
     "execution_count": 21,
     "metadata": {},
     "output_type": "execute_result"
    }
   ],
   "source": [
    "df.count()"
   ]
  },
  {
   "cell_type": "code",
   "execution_count": 115,
   "id": "d4e5eb8a",
   "metadata": {},
   "outputs": [],
   "source": [
    "df2 = spark.read.option(\"header\", \"true\").csv(\"../data/0226/metric/metric_0226.csv\")"
   ]
  },
  {
   "cell_type": "code",
   "execution_count": 33,
   "id": "04a8a4d6",
   "metadata": {
    "scrolled": true
   },
   "outputs": [
    {
     "data": {
      "text/plain": [
       "4040415"
      ]
     },
     "execution_count": 33,
     "metadata": {},
     "output_type": "execute_result"
    }
   ],
   "source": [
    "df2.count()"
   ]
  },
  {
   "cell_type": "code",
   "execution_count": 36,
   "id": "3f00ea1e",
   "metadata": {},
   "outputs": [
    {
     "name": "stdout",
     "output_type": "stream",
     "text": [
      "+----------+---------+--------------------+-------+\n",
      "| timestamp|  cmdb_id|            kpi_name|  value|\n",
      "+----------+---------+--------------------+-------+\n",
      "|1614268800|gjjweb001|    system.cpu.guest|    0.0|\n",
      "|1614268800|  gjjbps2|      system.swap.so|    0.0|\n",
      "|1614268800| gjjcore2|     system.mem.free| 1730.0|\n",
      "|1614268800| gjjcore2|system.mem.pct_usage|  37.75|\n",
      "|1614268800| gjjcore2|system.mem.real.p...|  38.84|\n",
      "|1614268800|  gjjbps2|      system.swap.si|    0.0|\n",
      "|1614268800| gjjcore2|system.mem.real.used|12434.0|\n",
      "|1614268800| gjjcore2|   system.mem.shared|    0.0|\n",
      "|1614268800|  gjjbps2|    system.swap.free|    0.0|\n",
      "|1614268800| gjjcore2|     system.mem.slab|  784.0|\n",
      "+----------+---------+--------------------+-------+\n",
      "only showing top 10 rows\n",
      "\n"
     ]
    }
   ],
   "source": [
    "df2.show(10)"
   ]
  },
  {
   "cell_type": "code",
   "execution_count": 27,
   "id": "e7342c36",
   "metadata": {},
   "outputs": [
    {
     "data": {
      "text/plain": [
       "['{\"timestamp\":\"1614268800\",\"rr\":\"100\",\"sr\":\"100\",\"count\":\"21\",\"mrt\":\"40\",\"tc\":\"388b83e4b434a13b679b0bad237fb5fabe1a0c54\"}',\n",
       " '{\"timestamp\":\"1614268800\",\"rr\":\"100\",\"sr\":\"100\",\"count\":\"20\",\"mrt\":\"10\",\"tc\":\"aaa51527e6254b04dd1d25004e6da3e6db651e4e\"}',\n",
       " '{\"timestamp\":\"1614268800\",\"rr\":\"100\",\"sr\":\"100\",\"count\":\"20\",\"mrt\":\"12\",\"tc\":\"f952e21004726cf7d2b2c5aa400a566e2b2a6aae\"}',\n",
       " '{\"timestamp\":\"1614268860\",\"rr\":\"100\",\"sr\":\"100\",\"count\":\"43\",\"mrt\":\"10\",\"tc\":\"aaa51527e6254b04dd1d25004e6da3e6db651e4e\"}',\n",
       " '{\"timestamp\":\"1614268860\",\"rr\":\"100\",\"sr\":\"100\",\"count\":\"13\",\"mrt\":\"17\",\"tc\":\"f952e21004726cf7d2b2c5aa400a566e2b2a6aae\"}',\n",
       " '{\"timestamp\":\"1614268860\",\"rr\":\"100\",\"sr\":\"100\",\"count\":\"32\",\"mrt\":\"44\",\"tc\":\"388b83e4b434a13b679b0bad237fb5fabe1a0c54\"}',\n",
       " '{\"timestamp\":\"1614268920\",\"rr\":\"100\",\"sr\":\"100\",\"count\":\"30\",\"mrt\":\"42\",\"tc\":\"388b83e4b434a13b679b0bad237fb5fabe1a0c54\"}',\n",
       " '{\"timestamp\":\"1614268920\",\"rr\":\"100\",\"sr\":\"100\",\"count\":\"19\",\"mrt\":\"11\",\"tc\":\"f952e21004726cf7d2b2c5aa400a566e2b2a6aae\"}',\n",
       " '{\"timestamp\":\"1614268920\",\"rr\":\"100\",\"sr\":\"100\",\"count\":\"44\",\"mrt\":\"10\",\"tc\":\"aaa51527e6254b04dd1d25004e6da3e6db651e4e\"}',\n",
       " '{\"timestamp\":\"1614268980\",\"rr\":\"100\",\"sr\":\"100\",\"count\":\"59\",\"mrt\":\"39\",\"tc\":\"388b83e4b434a13b679b0bad237fb5fabe1a0c54\"}']"
      ]
     },
     "execution_count": 27,
     "metadata": {},
     "output_type": "execute_result"
    }
   ],
   "source": [
    "df.toJSON().take(10)"
   ]
  },
  {
   "cell_type": "code",
   "execution_count": 35,
   "id": "b1db1972",
   "metadata": {},
   "outputs": [
    {
     "ename": "AttributeError",
     "evalue": "'GroupedData' object has no attribute 'show'",
     "output_type": "error",
     "traceback": [
      "\u001b[0;31m---------------------------------------------------------------------------\u001b[0m",
      "\u001b[0;31mAttributeError\u001b[0m                            Traceback (most recent call last)",
      "\u001b[0;32m/tmp/ipykernel_133/3450027696.py\u001b[0m in \u001b[0;36m<module>\u001b[0;34m\u001b[0m\n\u001b[0;32m----> 1\u001b[0;31m \u001b[0mdf2\u001b[0m\u001b[0;34m.\u001b[0m\u001b[0mgroupBy\u001b[0m\u001b[0;34m(\u001b[0m\u001b[0;34m\"cmdb_id\"\u001b[0m\u001b[0;34m)\u001b[0m\u001b[0;34m.\u001b[0m\u001b[0mshow\u001b[0m\u001b[0;34m(\u001b[0m\u001b[0;36m10\u001b[0m\u001b[0;34m)\u001b[0m\u001b[0;34m\u001b[0m\u001b[0;34m\u001b[0m\u001b[0m\n\u001b[0m",
      "\u001b[0;31mAttributeError\u001b[0m: 'GroupedData' object has no attribute 'show'"
     ]
    }
   ],
   "source": [
    "df2.groupBy(\"cmdb_id\").show(10)"
   ]
  },
  {
   "cell_type": "code",
   "execution_count": null,
   "id": "83eeb421",
   "metadata": {},
   "outputs": [],
   "source": []
  },
  {
   "cell_type": "code",
   "execution_count": 110,
   "id": "884b3115",
   "metadata": {},
   "outputs": [
    {
     "name": "stderr",
     "output_type": "stream",
     "text": [
      "                                                                                \r"
     ]
    },
    {
     "data": {
      "text/plain": [
       "str"
      ]
     },
     "execution_count": 110,
     "metadata": {},
     "output_type": "execute_result"
    }
   ],
   "source": [
    "type(df2.filter((df2[\"cmdb_id\"]==\"gjjweb001\") & (df2[\"kpi_name\"]==\"system.cpu.guest\")).toPandas().to_json(orient=\"records\"))"
   ]
  },
  {
   "cell_type": "code",
   "execution_count": 44,
   "id": "cffa7527",
   "metadata": {
    "scrolled": true
   },
   "outputs": [
    {
     "name": "stdout",
     "output_type": "stream",
     "text": [
      "+----------+---------+----------------+-----+\n",
      "| timestamp|  cmdb_id|        kpi_name|value|\n",
      "+----------+---------+----------------+-----+\n",
      "|1614268800|gjjweb001|system.cpu.guest|  0.0|\n",
      "|1614268860|gjjweb001|system.cpu.guest|  0.0|\n",
      "|1614268920|gjjweb001|system.cpu.guest|  0.0|\n",
      "|1614268980|gjjweb001|system.cpu.guest|  0.0|\n",
      "|1614269040|gjjweb001|system.cpu.guest|  0.0|\n",
      "|1614269100|gjjweb001|system.cpu.guest|  0.0|\n",
      "|1614269160|gjjweb001|system.cpu.guest|  0.0|\n",
      "|1614269220|gjjweb001|system.cpu.guest|  0.0|\n",
      "|1614269280|gjjweb001|system.cpu.guest|  0.0|\n",
      "|1614269340|gjjweb001|system.cpu.guest|  0.0|\n",
      "+----------+---------+----------------+-----+\n",
      "only showing top 10 rows\n",
      "\n"
     ]
    }
   ],
   "source": [
    "df2.filter((df2[\"cmdb_id\"]==\"gjjweb001\") & (df2[\"kpi_name\"]==\"system.cpu.guest\")).show(10)"
   ]
  },
  {
   "cell_type": "code",
   "execution_count": 75,
   "id": "0bb56345",
   "metadata": {},
   "outputs": [
    {
     "name": "stdout",
     "output_type": "stream",
     "text": [
      "+----------+------+\n",
      "|   cmdb_id| count|\n",
      "+----------+------+\n",
      "| gjjredis1|164160|\n",
      "|    gjjha1|133056|\n",
      "|    gjjha3|133056|\n",
      "|    gjjha2|133056|\n",
      "|  gjjcore9|131328|\n",
      "|  gjjcore1|131265|\n",
      "|  gjjcore8|130814|\n",
      "|  gjjcore5|129888|\n",
      "|  gjjcore7|128433|\n",
      "|  gjjcore2|127582|\n",
      "|  gjjcore6|127521|\n",
      "|gjjvincio1|127008|\n",
      "|   gjjbps1|126144|\n",
      "|  gjjcore4|126123|\n",
      "|  gjjuaap1|125280|\n",
      "|  gjjcore3|124073|\n",
      "|gjjvincio3|120960|\n",
      "|   gjjbps2|120960|\n",
      "|   gjjbps3|120960|\n",
      "|    gjjap2|120960|\n",
      "+----------+------+\n",
      "only showing top 20 rows\n",
      "\n"
     ]
    },
    {
     "name": "stderr",
     "output_type": "stream",
     "text": [
      "\r\n",
      "[Stage 374:==>                                                    (1 + 19) / 20]\r\n",
      "\r\n",
      "                                                                                \r"
     ]
    }
   ],
   "source": [
    "df2.groupBy(\"cmdb_id\").count().sort(col(\"count\").desc()).show()"
   ]
  },
  {
   "cell_type": "code",
   "execution_count": 62,
   "id": "c75f704e",
   "metadata": {
    "scrolled": true
   },
   "outputs": [
    {
     "name": "stderr",
     "output_type": "stream",
     "text": [
      "                                                                                \r"
     ]
    }
   ],
   "source": [
    "cmdbList = list(df2.select(df2[\"cmdb_id\"]).distinct().sort(\"cmdb_id\").toPandas()[\"cmdb_id\"])"
   ]
  },
  {
   "cell_type": "code",
   "execution_count": 116,
   "id": "8ebd0ac5",
   "metadata": {},
   "outputs": [
    {
     "name": "stderr",
     "output_type": "stream",
     "text": [
      "                                                                                \r"
     ]
    }
   ],
   "source": [
    "cmdbListSorted = list(df2.groupBy(\"cmdb_id\").count()\n",
    "                         .sort(col(\"count\").desc()).toPandas()[\"cmdb_id\"])"
   ]
  },
  {
   "cell_type": "code",
   "execution_count": 117,
   "id": "d4ccda9f",
   "metadata": {},
   "outputs": [
    {
     "name": "stderr",
     "output_type": "stream",
     "text": [
      "                                                                                \r"
     ]
    }
   ],
   "source": [
    "kpiDictSt = {}\n",
    "for cmdb in cmdbListSorted:\n",
    "    kpiDictSt[cmdb] = list(df2.filter(df2[\"cmdb_id\"]==cmdb).groupBy(\"kpi_name\").count()\n",
    "                              .sort(col(\"count\").desc()).toPandas()[\"kpi_name\"])"
   ]
  },
  {
   "cell_type": "code",
   "execution_count": 63,
   "id": "9a38e63c",
   "metadata": {},
   "outputs": [
    {
     "name": "stderr",
     "output_type": "stream",
     "text": [
      "                                                                                \r"
     ]
    }
   ],
   "source": [
    "kpiDict={}\n",
    "for cmdb in cmdbList:\n",
    "    kpiDict[cmdb] = list(df2.select(df2.filter(df2[\"cmdb_id\"]==cmdb)[\"kpi_name\"])\n",
    "                            .distinct().sort(\"kpi_name\").toPandas()[\"kpi_name\"])"
   ]
  },
  {
   "cell_type": "code",
   "execution_count": 84,
   "id": "cae75e6f",
   "metadata": {},
   "outputs": [
    {
     "name": "stdout",
     "output_type": "stream",
     "text": [
      "['system.mem.cached', 'system.mem.slab', 'system.net.udp.snd_buf_errors', 'system.mem.free', 'system.net.packets_out.error', 'system.net.bytes_sent', 'system.load.norm.1', 'system.mem.shared', 'system.net.udp.in_datagrams', 'system.load.5', 'system.net.bytes_rcvd', 'system.net.udp.no_ports', 'system.net.packets_in.count', 'system.mem.pct_usage', 'system.cpu.i_dle', 'system.mem.buffered', 'system.io.rrqm_s', 'system.disk.pct_usage', 'system.net.packets_out.count', 'system.net.udp.in_errors', 'system.io.wrqm_s', 'system.cpu.pct_usage', 'system.net.tcp.out_segs', 'system.cpu.guest', 'system.cpu.stolen', 'system.net.tcp.retrans_segs', 'system.io.util', 'system.io.wkb_s', 'system.io.avg_q_sz', 'system.load.norm.5', 'system.cpu.iowait', 'system.load.1', 'system.load.norm.15', 'system.net.udp.out_datagrams', 'system.fs.inodes.in_use', 'system.disk.total', 'system.fs.inodes.total', 'system.load.15', 'system.io.await', 'system.fs.inodes.used', 'system.disk.free', 'system.disk.used', 'system.io.svctm', 'system.mem.usable', 'system.fs.inodes.free', 'system.io.w_s', 'system.net.packets_in.error', 'system.io.r_s', 'system.io.avg_rq_sz', 'system.io.w_await', 'system.net.tcp.in_segs', 'system.mem.total', 'system.net.udp.rcv_buf_errors', 'system.cpu.user', 'system.io.r_await', 'system.mem.used', 'haproxy.backend.denied.req_rate', 'system.swap.total', 'haproxy.frontend.session.pct', 'haproxy.backend.session.rate', 'haproxy.backend.response.4xx', 'system.udp.connect.num', 'system.os.nofile.used_pct', 'haproxy.backend.session.pct', 'haproxy.backend.bytes.in_rate', 'haproxy.frontend.response.other', 'haproxy.backend.errors.resp_rate', 'system.os.nofile.max', 'haproxy.backend.bytes.out_rate', 'haproxy.backend.response.other', 'haproxy.frontend.denied.resp_rate', 'haproxy.backend.warnings.redis_rate', 'system.udp.in_rcvbuf_errors_pct', 'haproxy.frontend.response.4xx', 'haproxy.backend.warnings.retr_rate', 'haproxy.frontend.denied.req_rate', 'haproxy.backend.session.time', 'system.tcp.time_wait', 'haproxy.frontend.response.1xx', 'haproxy.backend.queue.current', 'haproxy.frontend.requests.rate', 'system.udp.sndbuf_errors_pct', 'haproxy.backend.response.1xx', 'haproxy.backend.response.3xx', 'haproxy.backend_hosts', 'haproxy.backend.queue.time', 'haproxy.frontend.bytes.in_rate', 'haproxy.frontend.response.3xx', 'system.swap.free', 'system.tcp.fin_wait2', 'system.tcp.retrans_pct', 'system.tcp.syn_recv', 'haproxy.frontend.errors.req_rate', 'haproxy.backend.session.current', 'haproxy.backend.response.5xx', 'system.tcp.syn_sent', 'haproxy.frontend.session.current', 'haproxy.frontend.response.2xx', 'system.tcp.last_ack', 'system.tcp.close_wait', 'system.tcp.listen', 'haproxy.backend.denied.resp_rate', 'haproxy.frontend.session.limit', 'haproxy.frontend.response.5xx', 'system.tcp.fin_wait1', 'haproxy.backend.errors.con_rate', 'haproxy.frontend.session.rate', 'system.swap.used_pct', 'haproxy.count_per_status', 'haproxy.backend.response.time', 'system.swap.si', 'haproxy.backend.session.limit', 'haproxy.backend_up', 'haproxy.backend.response.2xx', 'system.swap.used', 'system.swap.so', 'system.os.nofile.current', 'system.tcp.established', 'haproxy.backend.connect.time', 'haproxy.frontend.bytes.out_rate']\n"
     ]
    },
    {
     "name": "stderr",
     "output_type": "stream",
     "text": [
      "\r\n",
      "[Stage 673:=========================================>             (15 + 5) / 20]\r\n",
      "\r\n",
      "                                                                                \r"
     ]
    }
   ],
   "source": [
    "cmdbTemp = \"gjjweb001\"\n",
    "print(list(df2.filter(df2[\"cmdb_id\"]==cmdbTemp).groupBy(\"kpi_name\").count().sort(col(\"count\").desc()).toPandas()[\"kpi_name\"]))"
   ]
  },
  {
   "cell_type": "code",
   "execution_count": 119,
   "id": "f5433c73",
   "metadata": {},
   "outputs": [
    {
     "name": "stdout",
     "output_type": "stream",
     "text": [
      "3229\n"
     ]
    }
   ],
   "source": [
    "kpiSum = 0\n",
    "for service in kpiDictSt.keys():\n",
    "    kpiSum += len(kpiDictSt[service])\n",
    "print(kpiSum)"
   ]
  },
  {
   "cell_type": "code",
   "execution_count": 64,
   "id": "13e27105",
   "metadata": {},
   "outputs": [
    {
     "data": {
      "text/plain": [
       "['haproxy.backend.bytes.in_rate',\n",
       " 'haproxy.backend.bytes.out_rate',\n",
       " 'haproxy.backend.connect.time',\n",
       " 'haproxy.backend.denied.req_rate',\n",
       " 'haproxy.backend.denied.resp_rate',\n",
       " 'haproxy.backend.errors.con_rate',\n",
       " 'haproxy.backend.errors.resp_rate',\n",
       " 'haproxy.backend.queue.current',\n",
       " 'haproxy.backend.queue.time',\n",
       " 'haproxy.backend.response.1xx',\n",
       " 'haproxy.backend.response.2xx',\n",
       " 'haproxy.backend.response.3xx',\n",
       " 'haproxy.backend.response.4xx',\n",
       " 'haproxy.backend.response.5xx',\n",
       " 'haproxy.backend.response.other',\n",
       " 'haproxy.backend.response.time',\n",
       " 'haproxy.backend.session.current',\n",
       " 'haproxy.backend.session.limit',\n",
       " 'haproxy.backend.session.pct',\n",
       " 'haproxy.backend.session.rate',\n",
       " 'haproxy.backend.session.time',\n",
       " 'haproxy.backend.warnings.redis_rate',\n",
       " 'haproxy.backend.warnings.retr_rate',\n",
       " 'haproxy.backend_hosts',\n",
       " 'haproxy.backend_up',\n",
       " 'haproxy.count_per_status',\n",
       " 'haproxy.frontend.bytes.in_rate',\n",
       " 'haproxy.frontend.bytes.out_rate',\n",
       " 'haproxy.frontend.denied.req_rate',\n",
       " 'haproxy.frontend.denied.resp_rate',\n",
       " 'haproxy.frontend.errors.req_rate',\n",
       " 'haproxy.frontend.requests.rate',\n",
       " 'haproxy.frontend.response.1xx',\n",
       " 'haproxy.frontend.response.2xx',\n",
       " 'haproxy.frontend.response.3xx',\n",
       " 'haproxy.frontend.response.4xx',\n",
       " 'haproxy.frontend.response.5xx',\n",
       " 'haproxy.frontend.response.other',\n",
       " 'haproxy.frontend.session.current',\n",
       " 'haproxy.frontend.session.limit',\n",
       " 'haproxy.frontend.session.pct',\n",
       " 'haproxy.frontend.session.rate',\n",
       " 'oracle.asm.disk.group.free',\n",
       " 'oracle.asm.disk.group.usage_pct',\n",
       " 'oracle.base.current.connections',\n",
       " 'oracle.base.ins.status',\n",
       " 'oracle.base.service.response.time.max',\n",
       " 'oracle.can_connect',\n",
       " 'oracle.lock.wait.second',\n",
       " 'oracle.patchrate.fsfi',\n",
       " 'oracle.pga.cache.hit.percentage',\n",
       " 'oracle.pga.maximum.pga.allocated',\n",
       " 'oracle.process.freeable.pct_usage',\n",
       " 'oracle.process.total.pga.allocated',\n",
       " 'oracle.process.total.pga.inuse',\n",
       " 'oracle.process.useable.total',\n",
       " 'oracle.rac.rac.status',\n",
       " 'oracle.ratio.cacheratio',\n",
       " 'oracle.ratio.dictionarycacheratio',\n",
       " 'oracle.ratio.diskmemorysortratio',\n",
       " 'oracle.ratio.librarycacheratio.hit_rate',\n",
       " 'oracle.ratio.reloadstopingratio',\n",
       " 'oracle.ratio.rollbacksegmentheader',\n",
       " 'oracle.recursion.interval.recursive_calls.pct',\n",
       " 'oracle.redo.willing.gets',\n",
       " 'oracle.redo.willing.misses',\n",
       " 'oracle.redo.willing.percent',\n",
       " 'oracle.sga.dictioncache',\n",
       " 'oracle.sga.hit.rate',\n",
       " 'oracle.sga.librarycache',\n",
       " 'oracle.sga.redolog',\n",
       " 'oracle.sga.sharedcache',\n",
       " 'oracle.sga.sharepool',\n",
       " 'oracle.sga.sqlcache',\n",
       " 'oracle.tablespace.io.read.avg',\n",
       " 'oracle.tablespace.io.write.avg',\n",
       " 'oracle.tablespace.space',\n",
       " 'oracle.tablespace.used.percentage',\n",
       " 'oracle.user.wait.state',\n",
       " 'redis.aof.last_rewrite_time',\n",
       " 'redis.aof.rewrite',\n",
       " 'redis.can_connect',\n",
       " 'redis.clients.biggest_input_buf',\n",
       " 'redis.clients.blocked',\n",
       " 'redis.clients.longest_output_list',\n",
       " 'redis.cpu.sys',\n",
       " 'redis.cpu.sys_children',\n",
       " 'redis.cpu.user',\n",
       " 'redis.cpu.user_children',\n",
       " 'redis.keys.evicted',\n",
       " 'redis.keys.expired',\n",
       " 'redis.mem.fragmentation_ratio',\n",
       " 'redis.mem.lua',\n",
       " 'redis.mem.peak',\n",
       " 'redis.mem.rss',\n",
       " 'redis.mem.used',\n",
       " 'redis.net.clients',\n",
       " 'redis.net.rejected',\n",
       " 'redis.net.slaves',\n",
       " 'redis.perf.latest_fork_usec',\n",
       " 'redis.pubsub.channels',\n",
       " 'redis.pubsub.patterns',\n",
       " 'redis.rdb.bgsave',\n",
       " 'redis.rdb.changes_since_last',\n",
       " 'redis.rdb.last_bgsave_time',\n",
       " 'redis.replication.backlog_histlen',\n",
       " 'redis.replication.master_repl_offset',\n",
       " 'redis.stats.keyspace_hits',\n",
       " 'redis.stats.keyspace_misses',\n",
       " 'system.cpu.guest',\n",
       " 'system.cpu.i_dle',\n",
       " 'system.cpu.iowait',\n",
       " 'system.cpu.pct_usage',\n",
       " 'system.cpu.stolen',\n",
       " 'system.cpu.user',\n",
       " 'system.disk.free',\n",
       " 'system.disk.pct_usage',\n",
       " 'system.disk.readonly',\n",
       " 'system.disk.total',\n",
       " 'system.disk.used',\n",
       " 'system.fs.inodes.free',\n",
       " 'system.fs.inodes.in_use',\n",
       " 'system.fs.inodes.total',\n",
       " 'system.fs.inodes.used',\n",
       " 'system.io.avg_q_sz',\n",
       " 'system.io.avg_rq_sz',\n",
       " 'system.io.await',\n",
       " 'system.io.r_await',\n",
       " 'system.io.r_s',\n",
       " 'system.io.rkb_s',\n",
       " 'system.io.rrqm_s',\n",
       " 'system.io.svctm',\n",
       " 'system.io.util',\n",
       " 'system.io.w_await',\n",
       " 'system.io.w_s',\n",
       " 'system.io.wkb_s',\n",
       " 'system.io.wrqm_s',\n",
       " 'system.load.1',\n",
       " 'system.load.1.pct',\n",
       " 'system.load.15',\n",
       " 'system.load.5',\n",
       " 'system.load.norm.1',\n",
       " 'system.load.norm.15',\n",
       " 'system.load.norm.5',\n",
       " 'system.mem.buffered',\n",
       " 'system.mem.cached',\n",
       " 'system.mem.free',\n",
       " 'system.mem.pct_usage',\n",
       " 'system.mem.real.pct_useage',\n",
       " 'system.mem.real.used',\n",
       " 'system.mem.shared',\n",
       " 'system.mem.slab',\n",
       " 'system.mem.total',\n",
       " 'system.mem.usable',\n",
       " 'system.mem.used',\n",
       " 'system.net.bytes_rcvd',\n",
       " 'system.net.bytes_sent',\n",
       " 'system.net.packets_in.count',\n",
       " 'system.net.packets_in.error',\n",
       " 'system.net.packets_out.count',\n",
       " 'system.net.packets_out.error',\n",
       " 'system.net.tcp.in_segs',\n",
       " 'system.net.tcp.out_segs',\n",
       " 'system.net.tcp.retrans_segs',\n",
       " 'system.net.udp.in_datagrams',\n",
       " 'system.net.udp.in_errors',\n",
       " 'system.net.udp.no_ports',\n",
       " 'system.net.udp.out_datagrams',\n",
       " 'system.net.udp.rcv_buf_errors',\n",
       " 'system.net.udp.snd_buf_errors',\n",
       " 'system.os.nofile.current',\n",
       " 'system.os.nofile.max',\n",
       " 'system.os.nofile.used_pct',\n",
       " 'system.run_time',\n",
       " 'system.swap.free',\n",
       " 'system.swap.si',\n",
       " 'system.swap.so',\n",
       " 'system.swap.total',\n",
       " 'system.swap.used',\n",
       " 'system.swap.used_pct',\n",
       " 'system.tcp.close_wait',\n",
       " 'system.tcp.established',\n",
       " 'system.tcp.fin_wait1',\n",
       " 'system.tcp.fin_wait2',\n",
       " 'system.tcp.last_ack',\n",
       " 'system.tcp.listen',\n",
       " 'system.tcp.retrans_pct',\n",
       " 'system.tcp.syn_recv',\n",
       " 'system.tcp.syn_sent',\n",
       " 'system.tcp.time_wait',\n",
       " 'system.udp.connect.num',\n",
       " 'system.udp.in_rcvbuf_errors_pct',\n",
       " 'system.udp.sndbuf_errors_pct',\n",
       " 'weblogic.basic.active.sockets.connections',\n",
       " 'weblogic.basic.can_used.heap.size',\n",
       " 'weblogic.basic.heap.size',\n",
       " 'weblogic.basic.restart.count',\n",
       " 'weblogic.basic.run.status',\n",
       " 'weblogic.can_connect',\n",
       " 'weblogic.cluster.server.count',\n",
       " 'weblogic.cluster.server.status',\n",
       " 'weblogic.cluster.status',\n",
       " 'weblogic.ejb.activations.count',\n",
       " 'weblogic.ejb.caches.count',\n",
       " 'weblogic.ejb.passivations.count',\n",
       " 'weblogic.ejb.transaction.commits.count',\n",
       " 'weblogic.ejb.transaction.rollbacks.count',\n",
       " 'weblogic.ejb.transaction.timeout',\n",
       " 'weblogic.ejb.visits',\n",
       " 'weblogic.jdbc.active_conn_avg',\n",
       " 'weblogic.servlet.execute.time_avg',\n",
       " 'weblogic.webapp.current.sessions',\n",
       " 'weblogic.webapp.session_max',\n",
       " 'weblogic.webapp.sessions']"
      ]
     },
     "execution_count": 64,
     "metadata": {},
     "output_type": "execute_result"
    }
   ],
   "source": [
    "kpiDict[\"gjjweb001\"]"
   ]
  },
  {
   "cell_type": "code",
   "execution_count": 65,
   "id": "195f50e9",
   "metadata": {},
   "outputs": [],
   "source": [
    "import json"
   ]
  },
  {
   "cell_type": "code",
   "execution_count": 87,
   "id": "d336109b",
   "metadata": {},
   "outputs": [],
   "source": [
    "with open(\"cmdb-kpi.json\", \"w\") as f:\n",
    "    json.dump(kpiDictSt, f, indent=4)"
   ]
  },
  {
   "cell_type": "code",
   "execution_count": 85,
   "id": "1d895ff0",
   "metadata": {},
   "outputs": [
    {
     "data": {
      "text/plain": [
       "{'gjjweb001': []}"
      ]
     },
     "execution_count": 85,
     "metadata": {},
     "output_type": "execute_result"
    }
   ],
   "source": [
    "kpiDictSt"
   ]
  },
  {
   "cell_type": "code",
   "execution_count": null,
   "id": "b56d851a",
   "metadata": {},
   "outputs": [],
   "source": []
  }
 ],
 "metadata": {
  "kernelspec": {
   "display_name": "Python 3 (ipykernel)",
   "language": "python",
   "name": "python3"
  },
  "language_info": {
   "codemirror_mode": {
    "name": "ipython",
    "version": 3
   },
   "file_extension": ".py",
   "mimetype": "text/x-python",
   "name": "python",
   "nbconvert_exporter": "python",
   "pygments_lexer": "ipython3",
   "version": "3.9.7"
  }
 },
 "nbformat": 4,
 "nbformat_minor": 5
}
